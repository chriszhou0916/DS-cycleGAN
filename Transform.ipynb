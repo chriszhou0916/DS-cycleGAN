{
 "cells": [
  {
   "cell_type": "markdown",
   "metadata": {},
   "source": [
    "# Transform\n",
    "## Use this notebook to visualize an image-to-image translation model\n",
    "This notebook will load a trained model and generate various images."
   ]
  },
  {
   "cell_type": "code",
   "execution_count": 5,
   "metadata": {},
   "outputs": [],
   "source": [
    "import tensorflow as tf\n",
    "import tensorflow_datasets as tfds\n",
    "import matplotlib.pyplot as plt\n",
    "import numpy as np\n",
    "from trainer.config import config\n",
    "from trainer.utils import dataset\n",
    "from trainer.models import networks\n",
    "from trainer import utils\n",
    "from trainer import models\n",
    "from trainer import callbacks"
   ]
  },
  {
   "cell_type": "code",
   "execution_count": 6,
   "metadata": {},
   "outputs": [],
   "source": [
    "g_AB = networks.bicycle_generator(img_shape=(128, 128, 3), z_shape=(config.latent_z_dim,), norm=config.generator_norm, skip=False, z_in='all')\n",
    "g_BA = networks.bicycle_generator(img_shape=(128, 128, 3), z_shape=(config.latent_z_dim,), norm=config.generator_norm, skip=False, z_in='all')"
   ]
  },
  {
   "cell_type": "code",
   "execution_count": null,
   "metadata": {},
   "outputs": [],
   "source": [
    "g_AB.load_weights(\"trained_models/models/AB.hdf5\")\n",
    "g_BA.load_weights(\"trained_models/models/BA.hdf5\")\n",
    "test_A = "
   ]
  },
  {
   "cell_type": "code",
   "execution_count": null,
   "metadata": {},
   "outputs": [],
   "source": [
    "for inp in test_A.take(5):\n",
    "  dataset.generate_images(g_AB, inp)"
   ]
  },
  {
   "cell_type": "code",
   "execution_count": null,
   "metadata": {},
   "outputs": [],
   "source": []
  }
 ],
 "metadata": {
  "kernelspec": {
   "display_name": "Python 3",
   "language": "python",
   "name": "python3"
  },
  "language_info": {
   "codemirror_mode": {
    "name": "ipython",
    "version": 3
   },
   "file_extension": ".py",
   "mimetype": "text/x-python",
   "name": "python",
   "nbconvert_exporter": "python",
   "pygments_lexer": "ipython3",
   "version": "3.5.3"
  }
 },
 "nbformat": 4,
 "nbformat_minor": 4
}
